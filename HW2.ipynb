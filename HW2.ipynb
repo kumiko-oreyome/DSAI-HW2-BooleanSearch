{
 "cells": [
  {
   "cell_type": "code",
   "execution_count": 11,
   "metadata": {
    "collapsed": true
   },
   "outputs": [],
   "source": [
    "import jieba as jb\n",
    "import pandas as pd"
   ]
  },
  {
   "cell_type": "code",
   "execution_count": 36,
   "metadata": {},
   "outputs": [
    {
     "name": "stdout",
     "output_type": "stream",
     "text": [
      "The autoreload extension is already loaded. To reload it, use:\n",
      "  %reload_ext autoreload\n"
     ]
    },
    {
     "data": {
      "text/html": [
       "<div>\n",
       "<style scoped>\n",
       "    .dataframe tbody tr th:only-of-type {\n",
       "        vertical-align: middle;\n",
       "    }\n",
       "\n",
       "    .dataframe tbody tr th {\n",
       "        vertical-align: top;\n",
       "    }\n",
       "\n",
       "    .dataframe thead th {\n",
       "        text-align: right;\n",
       "    }\n",
       "</style>\n",
       "<table border=\"1\" class=\"dataframe\">\n",
       "  <thead>\n",
       "    <tr style=\"text-align: right;\">\n",
       "      <th></th>\n",
       "      <th>title</th>\n",
       "    </tr>\n",
       "  </thead>\n",
       "  <tbody>\n",
       "    <tr>\n",
       "      <th>0</th>\n",
       "      <td>嘎嫂新髮型宛如高中生 蔡阿嘎合照根本「誘拐未成年少女」</td>\n",
       "    </tr>\n",
       "    <tr>\n",
       "      <th>1</th>\n",
       "      <td>美國報告未提證據 俄：操縱大選是無中生有</td>\n",
       "    </tr>\n",
       "    <tr>\n",
       "      <th>2</th>\n",
       "      <td>新年搶優惠　通路Apple商品加碼送</td>\n",
       "    </tr>\n",
       "    <tr>\n",
       "      <th>3</th>\n",
       "      <td>台灣癌症時鐘加快 每5分26秒就1人罹癌</td>\n",
       "    </tr>\n",
       "    <tr>\n",
       "      <th>4</th>\n",
       "      <td>藍營胡批兩岸急凍壓垮興航 綠委回嗆「不用腦子的政黨」</td>\n",
       "    </tr>\n",
       "    <tr>\n",
       "      <th>5</th>\n",
       "      <td>食藥署提農藥殘留容許量審查原則 學界認為不合理</td>\n",
       "    </tr>\n",
       "    <tr>\n",
       "      <th>6</th>\n",
       "      <td>肩膀動不了 這療法讓勞動媽歡度母親節</td>\n",
       "    </tr>\n",
       "    <tr>\n",
       "      <th>7</th>\n",
       "      <td>若再談通俄門「川普可能陷險境」</td>\n",
       "    </tr>\n",
       "    <tr>\n",
       "      <th>8</th>\n",
       "      <td>【結盟片】搶救歐盟大作戰　「梅克宏」聯盟成形</td>\n",
       "    </tr>\n",
       "    <tr>\n",
       "      <th>9</th>\n",
       "      <td>僑教中心拒借場地／黃國昌批沈呂巡 醜陋政治操作</td>\n",
       "    </tr>\n",
       "  </tbody>\n",
       "</table>\n",
       "</div>"
      ],
      "text/plain": [
       "                         title\n",
       "0  嘎嫂新髮型宛如高中生 蔡阿嘎合照根本「誘拐未成年少女」\n",
       "1         美國報告未提證據 俄：操縱大選是無中生有\n",
       "2           新年搶優惠　通路Apple商品加碼送\n",
       "3         台灣癌症時鐘加快 每5分26秒就1人罹癌\n",
       "4   藍營胡批兩岸急凍壓垮興航 綠委回嗆「不用腦子的政黨」\n",
       "5      食藥署提農藥殘留容許量審查原則 學界認為不合理\n",
       "6           肩膀動不了 這療法讓勞動媽歡度母親節\n",
       "7              若再談通俄門「川普可能陷險境」\n",
       "8       【結盟片】搶救歐盟大作戰　「梅克宏」聯盟成形\n",
       "9      僑教中心拒借場地／黃國昌批沈呂巡 醜陋政治操作"
      ]
     },
     "execution_count": 36,
     "metadata": {},
     "output_type": "execute_result"
    }
   ],
   "source": [
    "from util import transform2df\n",
    "%load_ext autoreload\n",
    "%autoreload 2\n",
    "p = pandas.read_csv('source.csv')\n",
    "df = transform2df(p)\n",
    "df.head(10)"
   ]
  },
  {
   "cell_type": "code",
   "execution_count": 37,
   "metadata": {},
   "outputs": [
    {
     "name": "stdout",
     "output_type": "stream",
     "text": [
      "RangeIndex(start=0, stop=100000, step=1)\n"
     ]
    }
   ],
   "source": [
    "print(df.index)\n"
   ]
  },
  {
   "cell_type": "code",
   "execution_count": null,
   "metadata": {
    "collapsed": true
   },
   "outputs": [],
   "source": []
  }
 ],
 "metadata": {
  "kernelspec": {
   "display_name": "ir_hw",
   "language": "python",
   "name": "ir_hw"
  },
  "language_info": {
   "codemirror_mode": {
    "name": "ipython",
    "version": 3
   },
   "file_extension": ".py",
   "mimetype": "text/x-python",
   "name": "python",
   "nbconvert_exporter": "python",
   "pygments_lexer": "ipython3",
   "version": "3.6.2"
  }
 },
 "nbformat": 4,
 "nbformat_minor": 2
}
